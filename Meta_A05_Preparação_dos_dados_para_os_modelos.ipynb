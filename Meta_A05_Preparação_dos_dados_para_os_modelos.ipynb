{
  "cells": [
    {
      "cell_type": "markdown",
      "metadata": {
        "id": "view-in-github",
        "colab_type": "text"
      },
      "source": [
        "<a href=\"https://colab.research.google.com/github/thaisflopes/projeto_de_pesquisa_judicializacao_transporte_aereo/blob/main/Meta_A05_Prepara%C3%A7%C3%A3o_dos_dados_para_os_modelos.ipynb\" target=\"_parent\"><img src=\"https://colab.research.google.com/assets/colab-badge.svg\" alt=\"Open In Colab\"/></a>"
      ]
    },
    {
      "cell_type": "code",
      "execution_count": null,
      "metadata": {
        "id": "PW92CVu4MnQD"
      },
      "outputs": [],
      "source": [
        "#Bibliotecas\n",
        "import pandas as pd\n",
        "import numpy as np\n",
        "import time\n",
        "from sklearn.model_selection import GridSearchCV, train_test_split\n",
        "from sklearn.preprocessing import LabelEncoder, OneHotEncoder\n",
        "from sklearn.metrics import precision_score, accuracy_score, recall_score, f1_score, roc_auc_score, confusion_matrix\n",
        "from sklearn.svm import LinearSVC\n",
        "from sklearn.calibration import CalibratedClassifierCV"
      ]
    },
    {
      "cell_type": "markdown",
      "metadata": {
        "id": "xEjYBlU1746M"
      },
      "source": [
        "### Baixando bases de dados"
      ]
    },
    {
      "cell_type": "code",
      "execution_count": null,
      "metadata": {
        "id": "b1EU-m4vvWbo",
        "colab": {
          "base_uri": "https://localhost:8080/"
        },
        "outputId": "d2226619-0f32-4620-c079-02643f436a4b"
      },
      "outputs": [
        {
          "output_type": "stream",
          "name": "stdout",
          "text": [
            "Drive already mounted at /content/drive; to attempt to forcibly remount, call drive.mount(\"/content/drive\", force_remount=True).\n"
          ]
        }
      ],
      "source": [
        "#Baixando dados pelo Google Drive\n",
        "from google.colab import drive\n",
        "drive.mount('/content/drive')\n",
        "data = pd.read_csv('/content/drive/MyDrive/Projeto de pesquisa/Base_Dados/Códigos Finais - Aprendizado de Máquina/dados_aereas_ML.csv')"
      ]
    },
    {
      "cell_type": "code",
      "execution_count": null,
      "metadata": {
        "id": "HSkfXRDvM0Xn"
      },
      "outputs": [],
      "source": [
        "#Baixando dados pelo Anaconda\n",
        "#data = pd.read_csv('dados_aereas_ML.csv')"
      ]
    },
    {
      "cell_type": "code",
      "source": [
        "#Contabilizando a quantidade de linhas inicial\n",
        "num_linhas_inicial = data.shape[0]\n",
        "\n",
        "print(\"Número de linhas inicial:\", num_linhas_inicial)"
      ],
      "metadata": {
        "colab": {
          "base_uri": "https://localhost:8080/"
        },
        "id": "TGwzUMtBYcza",
        "outputId": "37bc99d1-c574-473e-ba85-c4ce715c38d0"
      },
      "execution_count": null,
      "outputs": [
        {
          "output_type": "stream",
          "name": "stdout",
          "text": [
            "Número de linhas inicial: 126041\n"
          ]
        }
      ]
    },
    {
      "cell_type": "code",
      "execution_count": null,
      "metadata": {
        "colab": {
          "base_uri": "https://localhost:8080/"
        },
        "id": "0R-iZVkeMyek",
        "outputId": "ff30bc0f-7dbd-423f-83d8-6be2aeae3fc9"
      },
      "outputs": [
        {
          "output_type": "stream",
          "name": "stdout",
          "text": [
            "\n",
            " Visualização do DataFrame:\n",
            "   empresa_re  num_proc_ano data_distribuicao  UF   operacao  \\\n",
            "0       Azul          2020        03/01/2020  PR  Doméstico   \n",
            "1       Azul          2019        07/01/2019  SP  Doméstico   \n",
            "2       Azul          2020        03/01/2020  PR  Doméstico   \n",
            "3       Azul          2022        01/01/2022  TO  Doméstico   \n",
            "4       Azul          2021        12/01/2021  SP  Doméstico   \n",
            "\n",
            "               jurisdicao     instancia situacao_processual_sentenca  \\\n",
            "0  Juizado Especial Cível  1ª Instância                   Condenação   \n",
            "1  Juizado Especial Cível  1ª Instância                   Condenação   \n",
            "2  Juizado Especial Cível  2ª Instância                   Condenação   \n",
            "3  Juizado Especial Cível  1ª Instância                   Condenação   \n",
            "4  Juizado Especial Cível  1ª Instância                   Condenação   \n",
            "\n",
            "   n_autores  valor_pedido_inicial  ...  obj_bagagem  obj_contrato  \\\n",
            "0          1               10000.0  ...        False         False   \n",
            "1          2               15160.7  ...        False         False   \n",
            "2          1               15083.2  ...        False         False   \n",
            "3          1               10000.0  ...        False         False   \n",
            "4          1                 921.3  ...        False          True   \n",
            "\n",
            "   obj_outros  causa_nao_informado  causa_forca_maior  causa_fortuitos  \\\n",
            "0       False                 True              False            False   \n",
            "1       False                 True              False            False   \n",
            "2       False                 True              False            False   \n",
            "3       False                 True              False            False   \n",
            "4       False                 True              False            False   \n",
            "\n",
            "   causa_terceiros  causa_cliente  causa_aerea  causa_outros  \n",
            "0            False          False        False         False  \n",
            "1            False          False        False         False  \n",
            "2            False          False        False         False  \n",
            "3            False          False        False         False  \n",
            "4            False          False        False         False  \n",
            "\n",
            "[5 rows x 25 columns]\n",
            "\n",
            " Tipos de dados do DataFrame:\n",
            " empresa_re                       object\n",
            "num_proc_ano                      int64\n",
            "data_distribuicao                object\n",
            "UF                               object\n",
            "operacao                         object\n",
            "jurisdicao                       object\n",
            "instancia                        object\n",
            "situacao_processual_sentenca     object\n",
            "n_autores                         int64\n",
            "valor_pedido_inicial            float64\n",
            "valor_dano_moral                float64\n",
            "valor_dano_material             float64\n",
            "valor_total_condenacao          float64\n",
            "valor_pago                      float64\n",
            "obj_problemas_operacionais         bool\n",
            "obj_bagagem                        bool\n",
            "obj_contrato                       bool\n",
            "obj_outros                         bool\n",
            "causa_nao_informado                bool\n",
            "causa_forca_maior                  bool\n",
            "causa_fortuitos                    bool\n",
            "causa_terceiros                    bool\n",
            "causa_cliente                      bool\n",
            "causa_aerea                        bool\n",
            "causa_outros                       bool\n",
            "dtype: object\n"
          ]
        }
      ],
      "source": [
        "#Visualizando dados\n",
        "print('\\n Visualização do DataFrame:\\n', data.head())\n",
        "print('\\n Tipos de dados do DataFrame:\\n', data.dtypes)"
      ]
    },
    {
      "cell_type": "markdown",
      "metadata": {
        "id": "bAASbGjx746N"
      },
      "source": [
        "### Preparando as variáveis para os modelos\n",
        "\n",
        "Alterações:\n",
        "- UF: reduzir em regiões\n",
        "- valor_pedido_inicial: transformar em Baixo, Médio e Alto\n",
        "- valor_dano_moral: transformar em Baixo, Médio e Alto\n",
        "- valor_dano_material: transformar em Baixo, Médio e Alto\n",
        "- valor_total_condenacao: transformar em Baixo, Médio e Alto\n",
        "\n",
        "Sem alterações: empresa_re, num_proc_ano, operacao, jurisdicao, instancia, situacao_processual_sentenca, n_autores, obj_problemas_operacionais, obj_bagagem, obj_contrato, obj_outros, causa_nao_informado, causa_forca_maior, causa_fortuitos, causa_terceiros, causa_cliente, causa_aerea, causa_outros\n",
        "\n",
        "Excluir: data_distribuicao, UF, valor_pago"
      ]
    },
    {
      "cell_type": "markdown",
      "source": [
        "#### UF para Região"
      ],
      "metadata": {
        "id": "JMzxvioGbOJ3"
      }
    },
    {
      "cell_type": "code",
      "execution_count": null,
      "metadata": {
        "colab": {
          "base_uri": "https://localhost:8080/",
          "height": 206
        },
        "id": "lZkIAujd746N",
        "outputId": "299d4201-79d8-4ec4-a750-d8981cb6a664"
      },
      "outputs": [
        {
          "output_type": "execute_result",
          "data": {
            "text/plain": [
              "   UF   regiao\n",
              "0  PR      Sul\n",
              "1  SP  Sudeste\n",
              "2  PR      Sul\n",
              "3  TO    Norte\n",
              "4  SP  Sudeste"
            ],
            "text/html": [
              "\n",
              "  <div id=\"df-301818d5-ad8e-4c7a-851a-945abd9e6638\" class=\"colab-df-container\">\n",
              "    <div>\n",
              "<style scoped>\n",
              "    .dataframe tbody tr th:only-of-type {\n",
              "        vertical-align: middle;\n",
              "    }\n",
              "\n",
              "    .dataframe tbody tr th {\n",
              "        vertical-align: top;\n",
              "    }\n",
              "\n",
              "    .dataframe thead th {\n",
              "        text-align: right;\n",
              "    }\n",
              "</style>\n",
              "<table border=\"1\" class=\"dataframe\">\n",
              "  <thead>\n",
              "    <tr style=\"text-align: right;\">\n",
              "      <th></th>\n",
              "      <th>UF</th>\n",
              "      <th>regiao</th>\n",
              "    </tr>\n",
              "  </thead>\n",
              "  <tbody>\n",
              "    <tr>\n",
              "      <th>0</th>\n",
              "      <td>PR</td>\n",
              "      <td>Sul</td>\n",
              "    </tr>\n",
              "    <tr>\n",
              "      <th>1</th>\n",
              "      <td>SP</td>\n",
              "      <td>Sudeste</td>\n",
              "    </tr>\n",
              "    <tr>\n",
              "      <th>2</th>\n",
              "      <td>PR</td>\n",
              "      <td>Sul</td>\n",
              "    </tr>\n",
              "    <tr>\n",
              "      <th>3</th>\n",
              "      <td>TO</td>\n",
              "      <td>Norte</td>\n",
              "    </tr>\n",
              "    <tr>\n",
              "      <th>4</th>\n",
              "      <td>SP</td>\n",
              "      <td>Sudeste</td>\n",
              "    </tr>\n",
              "  </tbody>\n",
              "</table>\n",
              "</div>\n",
              "    <div class=\"colab-df-buttons\">\n",
              "\n",
              "  <div class=\"colab-df-container\">\n",
              "    <button class=\"colab-df-convert\" onclick=\"convertToInteractive('df-301818d5-ad8e-4c7a-851a-945abd9e6638')\"\n",
              "            title=\"Convert this dataframe to an interactive table.\"\n",
              "            style=\"display:none;\">\n",
              "\n",
              "  <svg xmlns=\"http://www.w3.org/2000/svg\" height=\"24px\" viewBox=\"0 -960 960 960\">\n",
              "    <path d=\"M120-120v-720h720v720H120Zm60-500h600v-160H180v160Zm220 220h160v-160H400v160Zm0 220h160v-160H400v160ZM180-400h160v-160H180v160Zm440 0h160v-160H620v160ZM180-180h160v-160H180v160Zm440 0h160v-160H620v160Z\"/>\n",
              "  </svg>\n",
              "    </button>\n",
              "\n",
              "  <style>\n",
              "    .colab-df-container {\n",
              "      display:flex;\n",
              "      gap: 12px;\n",
              "    }\n",
              "\n",
              "    .colab-df-convert {\n",
              "      background-color: #E8F0FE;\n",
              "      border: none;\n",
              "      border-radius: 50%;\n",
              "      cursor: pointer;\n",
              "      display: none;\n",
              "      fill: #1967D2;\n",
              "      height: 32px;\n",
              "      padding: 0 0 0 0;\n",
              "      width: 32px;\n",
              "    }\n",
              "\n",
              "    .colab-df-convert:hover {\n",
              "      background-color: #E2EBFA;\n",
              "      box-shadow: 0px 1px 2px rgba(60, 64, 67, 0.3), 0px 1px 3px 1px rgba(60, 64, 67, 0.15);\n",
              "      fill: #174EA6;\n",
              "    }\n",
              "\n",
              "    .colab-df-buttons div {\n",
              "      margin-bottom: 4px;\n",
              "    }\n",
              "\n",
              "    [theme=dark] .colab-df-convert {\n",
              "      background-color: #3B4455;\n",
              "      fill: #D2E3FC;\n",
              "    }\n",
              "\n",
              "    [theme=dark] .colab-df-convert:hover {\n",
              "      background-color: #434B5C;\n",
              "      box-shadow: 0px 1px 3px 1px rgba(0, 0, 0, 0.15);\n",
              "      filter: drop-shadow(0px 1px 2px rgba(0, 0, 0, 0.3));\n",
              "      fill: #FFFFFF;\n",
              "    }\n",
              "  </style>\n",
              "\n",
              "    <script>\n",
              "      const buttonEl =\n",
              "        document.querySelector('#df-301818d5-ad8e-4c7a-851a-945abd9e6638 button.colab-df-convert');\n",
              "      buttonEl.style.display =\n",
              "        google.colab.kernel.accessAllowed ? 'block' : 'none';\n",
              "\n",
              "      async function convertToInteractive(key) {\n",
              "        const element = document.querySelector('#df-301818d5-ad8e-4c7a-851a-945abd9e6638');\n",
              "        const dataTable =\n",
              "          await google.colab.kernel.invokeFunction('convertToInteractive',\n",
              "                                                    [key], {});\n",
              "        if (!dataTable) return;\n",
              "\n",
              "        const docLinkHtml = 'Like what you see? Visit the ' +\n",
              "          '<a target=\"_blank\" href=https://colab.research.google.com/notebooks/data_table.ipynb>data table notebook</a>'\n",
              "          + ' to learn more about interactive tables.';\n",
              "        element.innerHTML = '';\n",
              "        dataTable['output_type'] = 'display_data';\n",
              "        await google.colab.output.renderOutput(dataTable, element);\n",
              "        const docLink = document.createElement('div');\n",
              "        docLink.innerHTML = docLinkHtml;\n",
              "        element.appendChild(docLink);\n",
              "      }\n",
              "    </script>\n",
              "  </div>\n",
              "\n",
              "\n",
              "<div id=\"df-415bd0d5-8512-43d9-82e8-d7d3609aefbc\">\n",
              "  <button class=\"colab-df-quickchart\" onclick=\"quickchart('df-415bd0d5-8512-43d9-82e8-d7d3609aefbc')\"\n",
              "            title=\"Suggest charts\"\n",
              "            style=\"display:none;\">\n",
              "\n",
              "<svg xmlns=\"http://www.w3.org/2000/svg\" height=\"24px\"viewBox=\"0 0 24 24\"\n",
              "     width=\"24px\">\n",
              "    <g>\n",
              "        <path d=\"M19 3H5c-1.1 0-2 .9-2 2v14c0 1.1.9 2 2 2h14c1.1 0 2-.9 2-2V5c0-1.1-.9-2-2-2zM9 17H7v-7h2v7zm4 0h-2V7h2v10zm4 0h-2v-4h2v4z\"/>\n",
              "    </g>\n",
              "</svg>\n",
              "  </button>\n",
              "\n",
              "<style>\n",
              "  .colab-df-quickchart {\n",
              "      --bg-color: #E8F0FE;\n",
              "      --fill-color: #1967D2;\n",
              "      --hover-bg-color: #E2EBFA;\n",
              "      --hover-fill-color: #174EA6;\n",
              "      --disabled-fill-color: #AAA;\n",
              "      --disabled-bg-color: #DDD;\n",
              "  }\n",
              "\n",
              "  [theme=dark] .colab-df-quickchart {\n",
              "      --bg-color: #3B4455;\n",
              "      --fill-color: #D2E3FC;\n",
              "      --hover-bg-color: #434B5C;\n",
              "      --hover-fill-color: #FFFFFF;\n",
              "      --disabled-bg-color: #3B4455;\n",
              "      --disabled-fill-color: #666;\n",
              "  }\n",
              "\n",
              "  .colab-df-quickchart {\n",
              "    background-color: var(--bg-color);\n",
              "    border: none;\n",
              "    border-radius: 50%;\n",
              "    cursor: pointer;\n",
              "    display: none;\n",
              "    fill: var(--fill-color);\n",
              "    height: 32px;\n",
              "    padding: 0;\n",
              "    width: 32px;\n",
              "  }\n",
              "\n",
              "  .colab-df-quickchart:hover {\n",
              "    background-color: var(--hover-bg-color);\n",
              "    box-shadow: 0 1px 2px rgba(60, 64, 67, 0.3), 0 1px 3px 1px rgba(60, 64, 67, 0.15);\n",
              "    fill: var(--button-hover-fill-color);\n",
              "  }\n",
              "\n",
              "  .colab-df-quickchart-complete:disabled,\n",
              "  .colab-df-quickchart-complete:disabled:hover {\n",
              "    background-color: var(--disabled-bg-color);\n",
              "    fill: var(--disabled-fill-color);\n",
              "    box-shadow: none;\n",
              "  }\n",
              "\n",
              "  .colab-df-spinner {\n",
              "    border: 2px solid var(--fill-color);\n",
              "    border-color: transparent;\n",
              "    border-bottom-color: var(--fill-color);\n",
              "    animation:\n",
              "      spin 1s steps(1) infinite;\n",
              "  }\n",
              "\n",
              "  @keyframes spin {\n",
              "    0% {\n",
              "      border-color: transparent;\n",
              "      border-bottom-color: var(--fill-color);\n",
              "      border-left-color: var(--fill-color);\n",
              "    }\n",
              "    20% {\n",
              "      border-color: transparent;\n",
              "      border-left-color: var(--fill-color);\n",
              "      border-top-color: var(--fill-color);\n",
              "    }\n",
              "    30% {\n",
              "      border-color: transparent;\n",
              "      border-left-color: var(--fill-color);\n",
              "      border-top-color: var(--fill-color);\n",
              "      border-right-color: var(--fill-color);\n",
              "    }\n",
              "    40% {\n",
              "      border-color: transparent;\n",
              "      border-right-color: var(--fill-color);\n",
              "      border-top-color: var(--fill-color);\n",
              "    }\n",
              "    60% {\n",
              "      border-color: transparent;\n",
              "      border-right-color: var(--fill-color);\n",
              "    }\n",
              "    80% {\n",
              "      border-color: transparent;\n",
              "      border-right-color: var(--fill-color);\n",
              "      border-bottom-color: var(--fill-color);\n",
              "    }\n",
              "    90% {\n",
              "      border-color: transparent;\n",
              "      border-bottom-color: var(--fill-color);\n",
              "    }\n",
              "  }\n",
              "</style>\n",
              "\n",
              "  <script>\n",
              "    async function quickchart(key) {\n",
              "      const quickchartButtonEl =\n",
              "        document.querySelector('#' + key + ' button');\n",
              "      quickchartButtonEl.disabled = true;  // To prevent multiple clicks.\n",
              "      quickchartButtonEl.classList.add('colab-df-spinner');\n",
              "      try {\n",
              "        const charts = await google.colab.kernel.invokeFunction(\n",
              "            'suggestCharts', [key], {});\n",
              "      } catch (error) {\n",
              "        console.error('Error during call to suggestCharts:', error);\n",
              "      }\n",
              "      quickchartButtonEl.classList.remove('colab-df-spinner');\n",
              "      quickchartButtonEl.classList.add('colab-df-quickchart-complete');\n",
              "    }\n",
              "    (() => {\n",
              "      let quickchartButtonEl =\n",
              "        document.querySelector('#df-415bd0d5-8512-43d9-82e8-d7d3609aefbc button');\n",
              "      quickchartButtonEl.style.display =\n",
              "        google.colab.kernel.accessAllowed ? 'block' : 'none';\n",
              "    })();\n",
              "  </script>\n",
              "</div>\n",
              "\n",
              "    </div>\n",
              "  </div>\n"
            ],
            "application/vnd.google.colaboratory.intrinsic+json": {
              "type": "dataframe",
              "summary": "{\n  \"name\": \"data[['UF', 'regiao']]\",\n  \"rows\": 5,\n  \"fields\": [\n    {\n      \"column\": \"UF\",\n      \"properties\": {\n        \"dtype\": \"string\",\n        \"num_unique_values\": 3,\n        \"samples\": [\n          \"PR\",\n          \"SP\",\n          \"TO\"\n        ],\n        \"semantic_type\": \"\",\n        \"description\": \"\"\n      }\n    },\n    {\n      \"column\": \"regiao\",\n      \"properties\": {\n        \"dtype\": \"string\",\n        \"num_unique_values\": 3,\n        \"samples\": [\n          \"Sul\",\n          \"Sudeste\",\n          \"Norte\"\n        ],\n        \"semantic_type\": \"\",\n        \"description\": \"\"\n      }\n    }\n  ]\n}"
            }
          },
          "metadata": {},
          "execution_count": 6
        }
      ],
      "source": [
        "#Criando a categoria de região\n",
        "uf = [\n",
        "    data['UF'].isin(['AC', 'AP', 'AM', 'PA', 'RO', 'RR', 'TO']),  # Norte\n",
        "    data['UF'].isin(['AL', 'BA', 'CE', 'MA', 'PB', 'PE', 'PI', 'RN', 'SE']),  # Nordeste\n",
        "    data['UF'].isin(['GO', 'MT', 'MS', 'DF']),  # Centro-Oeste\n",
        "    data['UF'].isin(['ES', 'MG', 'RJ', 'SP']),  # Sudeste\n",
        "    data['UF'].isin(['PR', 'RS', 'SC'])  # Sul\n",
        "]\n",
        "\n",
        "regiao = ['Norte', 'Nordeste', 'Centro-Oeste', 'Sudeste', 'Sul']\n",
        "\n",
        "data['regiao'] = np.select(uf, regiao, default='Outra')\n",
        "\n",
        "data[['UF', 'regiao']].head()"
      ]
    },
    {
      "cell_type": "markdown",
      "source": [
        "#### Excluindo colunas que não serão usadas"
      ],
      "metadata": {
        "id": "NP2qfUuZf-EW"
      }
    },
    {
      "cell_type": "code",
      "source": [
        "#Excluindo colunas que não serão usadas\n",
        "data = data.drop(['data_distribuicao', 'UF', 'valor_pago'], axis=1)"
      ],
      "metadata": {
        "id": "8W1Y8HXPf9U7"
      },
      "execution_count": null,
      "outputs": []
    },
    {
      "cell_type": "markdown",
      "source": [
        "#### Indenizações"
      ],
      "metadata": {
        "id": "DdPJBZwtfQ3E"
      }
    },
    {
      "cell_type": "code",
      "source": [
        "#Removendo outliers (valores acima de 1 milhão)\n",
        "\n",
        "#Lista de colunas para verificar os outliers\n",
        "colunas_indenizacoes = ['valor_pedido_inicial', 'valor_dano_moral', 'valor_dano_material', 'valor_total_condenacao']\n",
        "\n",
        "#Definindo valor máximo para remoção de outliers\n",
        "valor_maximo = 1e6  # R$ 1.000.000\n",
        "\n",
        "#Removendo as linhas que têm valores maiores que 1.000.000 nas colunas especificadas\n",
        "data = data[~((data[colunas_indenizacoes] > valor_maximo).any(axis=1))]\n",
        "\n",
        "#Contabilizando a quantidade de linhas após a remoção dos outliers\n",
        "num_linhas_sem_outlier = data.shape[0]\n",
        "\n",
        "print(\"Número de linhas após a remoção dos outliers:\", num_linhas_sem_outlier)"
      ],
      "metadata": {
        "colab": {
          "base_uri": "https://localhost:8080/"
        },
        "id": "nT-BpfpwdjGC",
        "outputId": "8f61b4f0-b377-4642-edca-10d5d81bbff1"
      },
      "execution_count": null,
      "outputs": [
        {
          "output_type": "stream",
          "name": "stdout",
          "text": [
            "Número de linhas após a remoção dos outliers: 126036\n"
          ]
        }
      ]
    },
    {
      "cell_type": "markdown",
      "source": [
        "##### Dano Moral"
      ],
      "metadata": {
        "id": "h_ZlGIOFgvkt"
      }
    },
    {
      "cell_type": "code",
      "source": [
        "#Calculando os percentis 25, 50 e 75 da coluna 'valor_dano_moral'\n",
        "percentil_25_dano_moral = data['valor_dano_moral'].quantile(0.25)\n",
        "percentil_50_dano_moral = data['valor_dano_moral'].quantile(0.50)\n",
        "percentil_75_dano_moral = data['valor_dano_moral'].quantile(0.75)\n",
        "\n",
        "print(percentil_25_dano_moral, percentil_50_dano_moral, percentil_75_dano_moral)"
      ],
      "metadata": {
        "colab": {
          "base_uri": "https://localhost:8080/"
        },
        "id": "nNMyHqR3YWoN",
        "outputId": "6fc94b5c-37c4-4439-9fc8-640aa1cc9d13"
      },
      "execution_count": null,
      "outputs": [
        {
          "output_type": "stream",
          "name": "stdout",
          "text": [
            "0.0 0.0 4000.0\n"
          ]
        }
      ]
    },
    {
      "cell_type": "code",
      "source": [
        "#Calculando os percentis 25, 50 e 75 da coluna 'valor_dano_moral' somente com os valores únicos\n",
        "\n",
        "#Obtendo os valores únicos da coluna 'valor_dano_moral'\n",
        "valores_unicos_dano_moral = data['valor_dano_moral'].dropna().unique()\n",
        "\n",
        "#Calculando os percentis 25, 50 e 75 dos valores únicos\n",
        "valor_minimo_dano_moral = np.min(valores_unicos_dano_moral)\n",
        "percentil_25_dano_moral = np.percentile(valores_unicos_dano_moral, 25)\n",
        "percentil_50_dano_moral = np.percentile(valores_unicos_dano_moral, 50)\n",
        "percentil_75_dano_moral = np.percentile(valores_unicos_dano_moral, 75)\n",
        "valor_maximo_dano_moral = np.max(valores_unicos_dano_moral)\n",
        "\n",
        "#Exibindo os percentis e os valores mínimos e máximos\n",
        "print(f\"Mínimo (com base nos valores únicos): {valor_minimo_dano_moral}\")\n",
        "print(f\"Percentil 25 (com base nos valores únicos): {percentil_25_dano_moral}\")\n",
        "print(f\"Percentil 50 (com base nos valores únicos): {percentil_50_dano_moral}\")\n",
        "print(f\"Percentil 75 (com base nos valores únicos): {percentil_75_dano_moral}\")\n",
        "print(f\"Máximo (com base nos valores únicos): {valor_maximo_dano_moral}\")\n"
      ],
      "metadata": {
        "colab": {
          "base_uri": "https://localhost:8080/"
        },
        "id": "SRSww0AvbYB3",
        "outputId": "b9ebc9a6-0c84-47b2-806a-0c18212100de"
      },
      "execution_count": null,
      "outputs": [
        {
          "output_type": "stream",
          "name": "stdout",
          "text": [
            "Mínimo (com base nos valores únicos): 0.0\n",
            "Percentil 25 (com base nos valores únicos): 1489.0575000000001\n",
            "Percentil 50 (com base nos valores únicos): 3227.9449999999997\n",
            "Percentil 75 (com base nos valores únicos): 5953.0075\n",
            "Máximo (com base nos valores únicos): 465000.0\n"
          ]
        }
      ]
    },
    {
      "cell_type": "code",
      "source": [
        "# Definindo as condições para as categorias com base nos percentis calculados\n",
        "\n",
        "condicoes = [\n",
        "    pd.isnull(data['valor_dano_moral']),  # Nulos\n",
        "    data['valor_dano_moral'] <= percentil_25_dano_moral,  # Baixo: até o percentil 25\n",
        "    (data['valor_dano_moral'] > percentil_25_dano_moral) & (data['valor_dano_moral'] <= percentil_75_dano_moral),  # Médio: entre o percentil 25 e 75\n",
        "    data['valor_dano_moral'] > percentil_75_dano_moral  # Alto: acima do percentil 75\n",
        "]\n",
        "\n",
        "# Definir as opções para as categorias\n",
        "nulos = None\n",
        "opcoes = [nulos, 'Baixo', 'Médio', 'Alto']\n",
        "\n",
        "# Criar a nova coluna 'valor_dano_moral_novo' com as categorias\n",
        "data['valor_dano_moral_novo'] = np.select(condicoes, opcoes)\n",
        "\n",
        "# Contar a frequência dos valores na coluna 'valor_dano_moral_novo'\n",
        "data['valor_dano_moral_novo'].value_counts()"
      ],
      "metadata": {
        "colab": {
          "base_uri": "https://localhost:8080/",
          "height": 209
        },
        "id": "itr-w4KpYUQo",
        "outputId": "f462480f-dcd3-438e-ac16-183e0a0fe906"
      },
      "execution_count": null,
      "outputs": [
        {
          "output_type": "execute_result",
          "data": {
            "text/plain": [
              "valor_dano_moral_novo\n",
              "Baixo    69298\n",
              "Médio    38662\n",
              "Alto     18076\n",
              "Name: count, dtype: int64"
            ],
            "text/html": [
              "<div>\n",
              "<style scoped>\n",
              "    .dataframe tbody tr th:only-of-type {\n",
              "        vertical-align: middle;\n",
              "    }\n",
              "\n",
              "    .dataframe tbody tr th {\n",
              "        vertical-align: top;\n",
              "    }\n",
              "\n",
              "    .dataframe thead th {\n",
              "        text-align: right;\n",
              "    }\n",
              "</style>\n",
              "<table border=\"1\" class=\"dataframe\">\n",
              "  <thead>\n",
              "    <tr style=\"text-align: right;\">\n",
              "      <th></th>\n",
              "      <th>count</th>\n",
              "    </tr>\n",
              "    <tr>\n",
              "      <th>valor_dano_moral_novo</th>\n",
              "      <th></th>\n",
              "    </tr>\n",
              "  </thead>\n",
              "  <tbody>\n",
              "    <tr>\n",
              "      <th>Baixo</th>\n",
              "      <td>69298</td>\n",
              "    </tr>\n",
              "    <tr>\n",
              "      <th>Médio</th>\n",
              "      <td>38662</td>\n",
              "    </tr>\n",
              "    <tr>\n",
              "      <th>Alto</th>\n",
              "      <td>18076</td>\n",
              "    </tr>\n",
              "  </tbody>\n",
              "</table>\n",
              "</div><br><label><b>dtype:</b> int64</label>"
            ]
          },
          "metadata": {},
          "execution_count": 11
        }
      ]
    },
    {
      "cell_type": "code",
      "source": [
        "#Criando arquivo csv (valores de input de indenizações numéricos)\n",
        "data.to_csv('dados_modelos_ind_num.csv', index=False, encoding='utf-8')"
      ],
      "metadata": {
        "id": "vnHiCloLkwzR"
      },
      "execution_count": null,
      "outputs": []
    },
    {
      "cell_type": "markdown",
      "source": [
        "#### Valor pedido inicial"
      ],
      "metadata": {
        "id": "D1wCUD6VaZwh"
      }
    },
    {
      "cell_type": "code",
      "source": [
        "#Calculando os percentis 25, 50 e 75 da coluna 'valor_pedido_inicial'\n",
        "percentil_25_pedido_inicial = data['valor_pedido_inicial'].quantile(0.25)\n",
        "percentil_50_pedido_inicial = data['valor_pedido_inicial'].quantile(0.50)\n",
        "percentil_75_pedido_inicial = data['valor_pedido_inicial'].quantile(0.75)\n",
        "\n",
        "print(percentil_25_pedido_inicial, percentil_50_pedido_inicial, percentil_75_pedido_inicial)"
      ],
      "metadata": {
        "colab": {
          "base_uri": "https://localhost:8080/"
        },
        "id": "Wuzgo58cligJ",
        "outputId": "d3d42893-955c-4339-a76e-f9116c8d181c"
      },
      "execution_count": null,
      "outputs": [
        {
          "output_type": "stream",
          "name": "stdout",
          "text": [
            "10000.0 15000.0 21273.6725\n"
          ]
        }
      ]
    },
    {
      "cell_type": "code",
      "source": [
        "#Obtendo os valores únicos da coluna 'valor_pedido_inicial'\n",
        "valores_unicos_pedido_inicial = data['valor_pedido_inicial'].dropna().unique()\n",
        "\n",
        "#Calculando os percentis 25, 50 e 75 dos valores únicos\n",
        "valor_minimo_pedido_inicial = np.min(valores_unicos_pedido_inicial)\n",
        "percentil_25_pedido_inicial = np.percentile(valores_unicos_pedido_inicial, 25)\n",
        "percentil_50_pedido_inicial = np.percentile(valores_unicos_pedido_inicial, 50)\n",
        "percentil_75_pedido_inicial = np.percentile(valores_unicos_pedido_inicial, 75)\n",
        "valor_maximo_pedido_inicial = np.max(valores_unicos_pedido_inicial)\n",
        "\n",
        "#Exibindo os percentis e os valores mínimos e máximos\n",
        "print(f\"Mínimo (com base nos valores únicos): {valor_minimo_pedido_inicial}\")\n",
        "print(f\"Percentil 25 (com base nos valores únicos): {percentil_25_pedido_inicial}\")\n",
        "print(f\"Percentil 50 (com base nos valores únicos): {percentil_50_pedido_inicial}\")\n",
        "print(f\"Percentil 75 (com base nos valores únicos): {percentil_75_pedido_inicial}\")\n",
        "print(f\"Máximo (com base nos valores únicos): {valor_maximo_pedido_inicial}\")"
      ],
      "metadata": {
        "colab": {
          "base_uri": "https://localhost:8080/"
        },
        "id": "JhPg5nj-nLC0",
        "outputId": "314a6d5b-f6c0-4851-a58f-3e9e76dbeba4"
      },
      "execution_count": null,
      "outputs": [
        {
          "output_type": "stream",
          "name": "stdout",
          "text": [
            "Mínimo (com base nos valores únicos): 0.0\n",
            "Percentil 25 (com base nos valores únicos): 10372.59\n",
            "Percentil 50 (com base nos valores únicos): 15420.44\n",
            "Percentil 75 (com base nos valores únicos): 22526.68\n",
            "Máximo (com base nos valores únicos): 950000.0\n"
          ]
        }
      ]
    },
    {
      "cell_type": "code",
      "source": [
        "# Definindo as condições para as categorias com base nos percentis calculados\n",
        "\n",
        "condicoes = [\n",
        "    pd.isnull(data['valor_pedido_inicial']),  # Nulos\n",
        "    data['valor_pedido_inicial'] <= percentil_25_pedido_inicial,  # Baixo: até o percentil 25\n",
        "    (data['valor_pedido_inicial'] > percentil_25_pedido_inicial) & (data['valor_pedido_inicial'] <= percentil_75_pedido_inicial),  # Médio: entre o percentil 25 e 75\n",
        "    data['valor_pedido_inicial'] > percentil_75_pedido_inicial  # Alto: acima do percentil 75\n",
        "]\n",
        "\n",
        "# Definir as opções para as categorias\n",
        "nulos = None\n",
        "opcoes = [nulos, 'Baixo', 'Médio', 'Alto']\n",
        "\n",
        "# Criar a nova coluna 'valor_pedido_inicial_novo' com as categorias\n",
        "data['valor_pedido_inicial_novo'] = np.select(condicoes, opcoes)\n",
        "\n",
        "# Contar a frequência dos valores na coluna 'valor_pedido_inicial_novo'\n",
        "data['valor_pedido_inicial_novo'].value_counts()"
      ],
      "metadata": {
        "colab": {
          "base_uri": "https://localhost:8080/",
          "height": 209
        },
        "id": "_o3iTbZ6lino",
        "outputId": "a084e6d2-00b8-4026-f138-db04b695ff6d"
      },
      "execution_count": null,
      "outputs": [
        {
          "output_type": "execute_result",
          "data": {
            "text/plain": [
              "valor_pedido_inicial_novo\n",
              "Médio    59146\n",
              "Baixo    38556\n",
              "Alto     28334\n",
              "Name: count, dtype: int64"
            ],
            "text/html": [
              "<div>\n",
              "<style scoped>\n",
              "    .dataframe tbody tr th:only-of-type {\n",
              "        vertical-align: middle;\n",
              "    }\n",
              "\n",
              "    .dataframe tbody tr th {\n",
              "        vertical-align: top;\n",
              "    }\n",
              "\n",
              "    .dataframe thead th {\n",
              "        text-align: right;\n",
              "    }\n",
              "</style>\n",
              "<table border=\"1\" class=\"dataframe\">\n",
              "  <thead>\n",
              "    <tr style=\"text-align: right;\">\n",
              "      <th></th>\n",
              "      <th>count</th>\n",
              "    </tr>\n",
              "    <tr>\n",
              "      <th>valor_pedido_inicial_novo</th>\n",
              "      <th></th>\n",
              "    </tr>\n",
              "  </thead>\n",
              "  <tbody>\n",
              "    <tr>\n",
              "      <th>Médio</th>\n",
              "      <td>59146</td>\n",
              "    </tr>\n",
              "    <tr>\n",
              "      <th>Baixo</th>\n",
              "      <td>38556</td>\n",
              "    </tr>\n",
              "    <tr>\n",
              "      <th>Alto</th>\n",
              "      <td>28334</td>\n",
              "    </tr>\n",
              "  </tbody>\n",
              "</table>\n",
              "</div><br><label><b>dtype:</b> int64</label>"
            ]
          },
          "metadata": {},
          "execution_count": 15
        }
      ]
    },
    {
      "cell_type": "markdown",
      "source": [
        "#### Dano Material"
      ],
      "metadata": {
        "id": "dpi4pBcCo8np"
      }
    },
    {
      "cell_type": "code",
      "source": [
        "#Calculando os percentis 25, 50 e 75 da coluna 'valor_dano_material'\n",
        "percentil_25_dano_material = data['valor_dano_material'].quantile(0.25)\n",
        "percentil_50_dano_material = data['valor_dano_material'].quantile(0.50)\n",
        "percentil_75_dano_material = data['valor_dano_material'].quantile(0.75)\n",
        "\n",
        "print(percentil_25_dano_material, percentil_50_dano_material, percentil_75_dano_material)"
      ],
      "metadata": {
        "colab": {
          "base_uri": "https://localhost:8080/"
        },
        "id": "BeK0qhpEliwQ",
        "outputId": "803ed7eb-8c91-4262-c6b3-241eb7096df1"
      },
      "execution_count": null,
      "outputs": [
        {
          "output_type": "stream",
          "name": "stdout",
          "text": [
            "0.0 0.0 192.0\n"
          ]
        }
      ]
    },
    {
      "cell_type": "code",
      "source": [
        "# Obtendo os valores únicos da coluna 'valor_dano_material'\n",
        "valores_unicos_dano_material = data['valor_dano_material'].dropna().unique()\n",
        "\n",
        "# Calculando os percentis 25, 50 e 75 dos valores únicos\n",
        "valor_minimo_dano_material = np.min(valores_unicos_dano_material)\n",
        "percentil_25_dano_material = np.percentile(valores_unicos_dano_material, 25)\n",
        "percentil_50_dano_material = np.percentile(valores_unicos_dano_material, 50)\n",
        "percentil_75_dano_material = np.percentile(valores_unicos_dano_material, 75)\n",
        "valor_maximo_dano_material = np.max(valores_unicos_dano_material)\n",
        "\n",
        "# Exibindo os percentis e os valores mínimos e máximos\n",
        "print(f\"Mínimo (com base nos valores únicos): {valor_minimo_dano_material}\")\n",
        "print(f\"Percentil 25 (com base nos valores únicos): {percentil_25_dano_material}\")\n",
        "print(f\"Percentil 50 (com base nos valores únicos): {percentil_50_dano_material}\")\n",
        "print(f\"Percentil 75 (com base nos valores únicos): {percentil_75_dano_material}\")\n",
        "print(f\"Máximo (com base nos valores únicos): {valor_maximo_dano_material}\")"
      ],
      "metadata": {
        "colab": {
          "base_uri": "https://localhost:8080/"
        },
        "id": "mwllT-lMpkQz",
        "outputId": "da404a70-a233-4c1c-85de-08de870af669"
      },
      "execution_count": null,
      "outputs": [
        {
          "output_type": "stream",
          "name": "stdout",
          "text": [
            "Mínimo (com base nos valores únicos): 0.0\n",
            "Percentil 25 (com base nos valores únicos): 447.955\n",
            "Percentil 50 (com base nos valores únicos): 1097.17\n",
            "Percentil 75 (com base nos valores únicos): 2601.45\n",
            "Máximo (com base nos valores únicos): 453880.56\n"
          ]
        }
      ]
    },
    {
      "cell_type": "code",
      "source": [
        "# Definindo as condições para as categorias com base nos percentis calculados\n",
        "\n",
        "condicoes = [\n",
        "    pd.isnull(data['valor_dano_material']),  # Nulos\n",
        "    data['valor_dano_material'] <= percentil_25_dano_material,  # Baixo: até o percentil 25\n",
        "    (data['valor_dano_material'] > percentil_25_dano_material) & (data['valor_dano_material'] <= percentil_75_dano_material),  # Médio: entre o percentil 25 e 75\n",
        "    data['valor_dano_material'] > percentil_75_dano_material  # Alto: acima do percentil 75\n",
        "]\n",
        "\n",
        "# Definir as opções para as categorias\n",
        "nulos = None\n",
        "opcoes = [nulos, 'Baixo', 'Médio', 'Alto']\n",
        "\n",
        "# Criar a nova coluna 'valor_dano_material_novo' com as categorias\n",
        "data['valor_dano_material_novo'] = np.select(condicoes, opcoes)\n",
        "\n",
        "# Contar a frequência dos valores na coluna 'valor_dano_material_novo'\n",
        "data['valor_dano_material_novo'].value_counts()\n"
      ],
      "metadata": {
        "colab": {
          "base_uri": "https://localhost:8080/",
          "height": 209
        },
        "id": "n4e18tbOprmw",
        "outputId": "4e0e703a-9216-417d-fb14-351e124dde84"
      },
      "execution_count": null,
      "outputs": [
        {
          "output_type": "execute_result",
          "data": {
            "text/plain": [
              "valor_dano_material_novo\n",
              "Baixo    100595\n",
              "Médio     17270\n",
              "Alto       8171\n",
              "Name: count, dtype: int64"
            ],
            "text/html": [
              "<div>\n",
              "<style scoped>\n",
              "    .dataframe tbody tr th:only-of-type {\n",
              "        vertical-align: middle;\n",
              "    }\n",
              "\n",
              "    .dataframe tbody tr th {\n",
              "        vertical-align: top;\n",
              "    }\n",
              "\n",
              "    .dataframe thead th {\n",
              "        text-align: right;\n",
              "    }\n",
              "</style>\n",
              "<table border=\"1\" class=\"dataframe\">\n",
              "  <thead>\n",
              "    <tr style=\"text-align: right;\">\n",
              "      <th></th>\n",
              "      <th>count</th>\n",
              "    </tr>\n",
              "    <tr>\n",
              "      <th>valor_dano_material_novo</th>\n",
              "      <th></th>\n",
              "    </tr>\n",
              "  </thead>\n",
              "  <tbody>\n",
              "    <tr>\n",
              "      <th>Baixo</th>\n",
              "      <td>100595</td>\n",
              "    </tr>\n",
              "    <tr>\n",
              "      <th>Médio</th>\n",
              "      <td>17270</td>\n",
              "    </tr>\n",
              "    <tr>\n",
              "      <th>Alto</th>\n",
              "      <td>8171</td>\n",
              "    </tr>\n",
              "  </tbody>\n",
              "</table>\n",
              "</div><br><label><b>dtype:</b> int64</label>"
            ]
          },
          "metadata": {},
          "execution_count": 18
        }
      ]
    },
    {
      "cell_type": "code",
      "source": [
        "#Excluindo colunas de indenizações numéricas\n",
        "data = data.drop(['valor_pedido_inicial', 'valor_dano_moral', 'valor_dano_material', 'valor_total_condenacao'], axis=1)\n",
        "\n",
        "print(data.columns)"
      ],
      "metadata": {
        "colab": {
          "base_uri": "https://localhost:8080/"
        },
        "id": "ZD8dZ7d6iwF1",
        "outputId": "e4d0db8a-fe21-4086-c1b6-c6bb1c4decb3"
      },
      "execution_count": null,
      "outputs": [
        {
          "output_type": "stream",
          "name": "stdout",
          "text": [
            "Index(['empresa_re', 'num_proc_ano', 'operacao', 'jurisdicao', 'instancia',\n",
            "       'situacao_processual_sentenca', 'n_autores',\n",
            "       'obj_problemas_operacionais', 'obj_bagagem', 'obj_contrato',\n",
            "       'obj_outros', 'causa_nao_informado', 'causa_forca_maior',\n",
            "       'causa_fortuitos', 'causa_terceiros', 'causa_cliente', 'causa_aerea',\n",
            "       'causa_outros', 'regiao', 'valor_dano_moral_novo',\n",
            "       'valor_pedido_inicial_novo', 'valor_dano_material_novo'],\n",
            "      dtype='object')\n"
          ]
        }
      ]
    },
    {
      "cell_type": "code",
      "source": [
        "#Criando arquivo csv\n",
        "data.to_csv('dados_modelos_ind_cat.csv', index=False, encoding='utf-8')"
      ],
      "metadata": {
        "id": "VRTkxZPfb8g5"
      },
      "execution_count": null,
      "outputs": []
    }
  ],
  "metadata": {
    "colab": {
      "provenance": [],
      "gpuType": "T4",
      "include_colab_link": true
    },
    "kernelspec": {
      "display_name": "Python 3",
      "name": "python3"
    },
    "language_info": {
      "codemirror_mode": {
        "name": "ipython",
        "version": 3
      },
      "file_extension": ".py",
      "mimetype": "text/x-python",
      "name": "python",
      "nbconvert_exporter": "python",
      "pygments_lexer": "ipython3",
      "version": "3.12.4"
    },
    "accelerator": "GPU"
  },
  "nbformat": 4,
  "nbformat_minor": 0
}